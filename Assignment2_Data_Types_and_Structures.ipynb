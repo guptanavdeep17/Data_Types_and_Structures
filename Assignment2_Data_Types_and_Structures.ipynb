{
  "nbformat": 4,
  "nbformat_minor": 0,
  "metadata": {
    "colab": {
      "provenance": []
    },
    "kernelspec": {
      "name": "python3",
      "display_name": "Python 3"
    },
    "language_info": {
      "name": "python"
    }
  },
  "cells": [
    {
      "cell_type": "markdown",
      "source": [
        "1. What are data structures, and why are they important?\n",
        "  \n",
        "    * Data structures are ways of organizing and storing data in a computer so that it can be accessed and modified efficiently. Common examples in Python include lists, tuples, sets, and dictionaries. They are important because they determine the efficiency of various operations such as searching, insertion, deletion, and data organization.\n",
        "\n",
        "2.  Explain the difference between mutable and immutable data types with examples.     \n",
        "\n",
        "    * Mutable data types allow modification after creation. Their contents can change.\n",
        "\n",
        "           Examples: list, dict\n",
        "    * Immutable data types cannot be changed once created. Any operation that alters them creates a new object.\n",
        "\n",
        "           Examples: int, float, str, tuple       \n",
        "\n",
        "3.  What are the main differences between lists and tuples in Python?\n",
        "    \n",
        "    * Lists :  Ordered, mutable collections of elements. Lists can hold items of various data types (numbers, strings, even other lists!).You can add, remove, or modify elements within a list using indexing and slicing.\n",
        "    \n",
        "    *  Tuple :  Ordered, immutable collections of elements, similar to lists. However, once created, the items in a tuple cannot be changed. They provide a secure way to store data that shouldn't be modified.\n",
        "\n",
        "4. Describe how dictionaries store data.\n",
        "    \n",
        "    * Dictionaries in Python store data in key-value pairs using a structure called a hash table. Each key is hashed to a unique index that points to its corresponding value.\n",
        "\n",
        "5.  Why might you use a set instead of a list in Python?\n",
        "\n",
        "    * A set is used instead of a list when:\n",
        "\n",
        "          You need to store unique items (no duplicates)\n",
        "\n",
        "          You don’t need the data to be in any specific order\n",
        "6. What is a string in Python, and how is it different from a list?\n",
        "\n",
        "    * A string is an immutable sequence of characters. A list is a mutable sequence that can contain elements of any data type.\n",
        "\n",
        "          String: \"hello\" (characters only, immutable)\n",
        "\n",
        "          List: [\"h\", \"e\", \"l\", \"l\", \"o\"] (can be modified)\n",
        "\n",
        "      Strings are commonly used for text data, while lists are more general-purpose containers.\n",
        "\n",
        "7. How do tuples ensure data integrity in Python?\n",
        "  \n",
        "    *  Tuples are immutable, their content cannot be changed after creation. This property makes tuples reliable for:\n",
        "\n",
        "           Storing constant or fixed-size data\n",
        "\n",
        "           Using them as keys in dictionaries\n",
        "\n",
        "           Ensuring data doesn’t get accidentally altered during program execution\n",
        "\n",
        "8. What is a hash table, and how does it relate to dictionaries in Python?\n",
        "\n",
        "    * A hash table is a data structure that maps keys to values using a hashing function. In Python, dictionaries use hash tables internally to provide constant-time complexity for operations like lookup, insertion, and deletion.\n",
        "\n",
        "9. Can lists contain different data types in Python?\n",
        "    \n",
        "    * Yes. Python lists are heterogeneous, meaning they can store elements of different data types in the same list.\n",
        "\n",
        "            Example:    my_list = [ 1, \"text\", 3.14, [1, 2], True]\n",
        "\n",
        "10. Explain why strings are immutable in Python.\n",
        "\n",
        "    * Strings are immutable for several reasons:\n",
        "\n",
        "            Security: Immutable strings prevent accidental or malicious changes.\n",
        "\n",
        "            Efficiency: Python optimizes memory usage by reusing string objects.\n",
        "\n",
        "            Hashing: Strings must be immutable to be used as dictionary keys.\n",
        "\n",
        "11. What advantages do dictionaries offer over lists for certain tasks?\n",
        "\n",
        "    * Dictionaries are better than lists when:\n",
        "\n",
        "          You need associative data (e.g., name-to-age mapping)\n",
        "\n",
        "          You want fast lookup by key (O(1) time complexity)\n",
        "\n",
        "          You deal with non-numeric indexes\n",
        "\n",
        "12. Describe a scenario where using a tuple would be preferable over a list.\n",
        "\n",
        "   * Imagine you're developing a map application that stores the fixed location (latitude, longitude) of landmarks:\n",
        "\n",
        "          Example: eiffel_tower = (48.8584, 2.2945)  # Tuple\n",
        "\n",
        "13. How do sets handle duplicate values in Python?\n",
        "\n",
        "    * Sets automatically eliminate duplicate values. When a set is created or updated, all duplicate elements are discarded, ensuring each element is unique.\n",
        "            Example: s = set([1, 2, 2, 3])  # s becomes {1, 2, 3}\n",
        "\n",
        "14. How does the “in” keyword work differently for lists and dictionaries?\n",
        "\n",
        "    * For lists, \"in\" checks if a value exists.\n",
        "\n",
        "          Example: 3 in [1, 2, 3]  # True\n",
        "    * For dictionaries, in checks if a key exists.\n",
        "\n",
        "          Example: 'name' in {'name': 'Alice'}  # True    \n",
        "\n",
        "15. Can you modify the elements of a tuple? Explain why or why not.\n",
        "\n",
        "    * No. Tuples are immutable, so their contents cannot be changed after creation. Any attempt to modify a tuple results in a TypeError. This ensures data safety and consistency.\n",
        "\n",
        "16.  What is a nested dictionary, and give an example of its use case?\n",
        "\n",
        "    * A nested dictionary is a dictionary where values are also dictionaries.\n",
        "\n",
        "           Example: students = { \"101\": {\"name\": \"Alice\", \"grade\": \"A\"},\n",
        "                                 \"102\": {\"name\": \"Bob\", \"grade\": \"B\"}}\n",
        "\n",
        "17. Describe the time complexity of accessing elements in a dictionary.\n",
        "\n",
        "   * Average case: O(1) due to hashing\n",
        "\n",
        "     Worst case: O(n) in case of hash collisions (rare)\n",
        "\n",
        "\n",
        "18. In what situations are lists preferred over dictionaries?\n",
        "\n",
        "   * Lists are preferred when:\n",
        "\n",
        "          Data order matters (especially in ordered collections)\n",
        "\n",
        "          You only need sequential access\n",
        "\n",
        "          You need to access elements by position (index-based access)\n",
        "\n",
        "          Keys are not required\n",
        "\n",
        "19. Why are dictionaries considered unordered, and how does that affect data retrieval?\n",
        "\n",
        "   *  Dictionaries are considered unordered collections conceptually because:\n",
        "\n",
        "           Access is based on keys, not position\n",
        "\n",
        "           The primary purpose is fast lookup, not ordering\n",
        "\n",
        "20. Explain the difference between a list and a dictionary in terms of data retrieval.\n",
        "\n",
        "   * List:  A list is an ordered collection of items where each element is stored at a specific numeric index, starting from 0. Data is retrieved using this index.\n",
        "\n",
        "      Access Method: Data is accessed by position (e.g., list[0])\n",
        "\n",
        "   * Dictionary: A dictionary is a key-value mapping, where each value is associated with a unique key. Unlike lists, dictionaries do not use numeric indexes for access.\n",
        "     \n",
        "      Access Method: Data is accessed by key (e.g., dict[\"key\"])\n",
        "\n",
        "\n",
        "      \n"
      ],
      "metadata": {
        "id": "zQ4r7wft1cfO"
      }
    },
    {
      "cell_type": "markdown",
      "source": [
        " # 1. Write a code to create a string with your name and print it."
      ],
      "metadata": {
        "id": "ubQdzdB6qNb_"
      }
    },
    {
      "cell_type": "code",
      "execution_count": 1,
      "metadata": {
        "colab": {
          "base_uri": "https://localhost:8080/"
        },
        "id": "BJ71FQlQno0w",
        "outputId": "de2f6749-f10f-441c-8449-6d8972931669"
      },
      "outputs": [
        {
          "output_type": "stream",
          "name": "stdout",
          "text": [
            "Navdeep Gupta\n"
          ]
        }
      ],
      "source": [
        "name = 'Navdeep Gupta'\n",
        "print(name)"
      ]
    },
    {
      "cell_type": "markdown",
      "source": [
        "# 2. Write a code to find the length of the string \"Hello World\"."
      ],
      "metadata": {
        "id": "e3ISwIPWqTcI"
      }
    },
    {
      "cell_type": "code",
      "source": [
        "a = 'Hello World'\n",
        "print(len(a))"
      ],
      "metadata": {
        "colab": {
          "base_uri": "https://localhost:8080/"
        },
        "id": "K6fytrlBqUWr",
        "outputId": "59081145-b4c9-4d90-950d-b1c3a219b509"
      },
      "execution_count": 4,
      "outputs": [
        {
          "output_type": "stream",
          "name": "stdout",
          "text": [
            "11\n"
          ]
        }
      ]
    },
    {
      "cell_type": "markdown",
      "source": [
        "# 3. Write a code to slice the first 3 characters from the string \"Python Programming\"."
      ],
      "metadata": {
        "id": "sw7jXOe5qMiZ"
      }
    },
    {
      "cell_type": "code",
      "source": [
        "a = 'Python Programming'\n",
        "print(a[:3])"
      ],
      "metadata": {
        "colab": {
          "base_uri": "https://localhost:8080/"
        },
        "id": "uGrhVbQyqtPG",
        "outputId": "5ef736bc-84f9-4d21-88c9-ff6ccb0105a1"
      },
      "execution_count": 6,
      "outputs": [
        {
          "output_type": "stream",
          "name": "stdout",
          "text": [
            "Pyt\n"
          ]
        }
      ]
    },
    {
      "cell_type": "markdown",
      "source": [
        "# 4. Write a code to convert the string \"hello\" to uppercase."
      ],
      "metadata": {
        "id": "n3-Yhyw-qtuu"
      }
    },
    {
      "cell_type": "code",
      "source": [
        "a = 'hello'\n",
        "print(a.upper())"
      ],
      "metadata": {
        "colab": {
          "base_uri": "https://localhost:8080/"
        },
        "id": "HCzERfw0q-uS",
        "outputId": "d8d65906-c8e6-4738-c8f3-a9e7fa18c4e0"
      },
      "execution_count": 7,
      "outputs": [
        {
          "output_type": "stream",
          "name": "stdout",
          "text": [
            "HELLO\n"
          ]
        }
      ]
    },
    {
      "cell_type": "markdown",
      "source": [
        "# 5. Write a code to replace the word \"apple\" with \"orange\" in the string \"I like apple\"."
      ],
      "metadata": {
        "id": "eGpa1rJgq_FX"
      }
    },
    {
      "cell_type": "code",
      "source": [
        "string = \"I like apple\"\n",
        "new_string = string.replace(\"apple\", \"orange\")\n",
        "print(new_string)"
      ],
      "metadata": {
        "colab": {
          "base_uri": "https://localhost:8080/"
        },
        "id": "_ULpv99erIVj",
        "outputId": "c86cf96b-9682-4906-e60e-bcfc2dd6e754"
      },
      "execution_count": 8,
      "outputs": [
        {
          "output_type": "stream",
          "name": "stdout",
          "text": [
            "I like orange\n"
          ]
        }
      ]
    },
    {
      "cell_type": "markdown",
      "source": [
        "# 6.  Write a code to create a list with numbers 1 to 5 and print it."
      ],
      "metadata": {
        "id": "cc7aJfZSrKFT"
      }
    },
    {
      "cell_type": "code",
      "source": [
        "l = [1,2,3,4,5]\n",
        "print(l)"
      ],
      "metadata": {
        "colab": {
          "base_uri": "https://localhost:8080/"
        },
        "id": "IWWcyu4UrQ8W",
        "outputId": "3346fab1-9366-48cb-9bbe-b24994bed6bf"
      },
      "execution_count": 9,
      "outputs": [
        {
          "output_type": "stream",
          "name": "stdout",
          "text": [
            "[1, 2, 3, 4, 5]\n"
          ]
        }
      ]
    },
    {
      "cell_type": "markdown",
      "source": [
        "# 7. Write a code to append the number 10 to the list [1, 2, 3, 4]."
      ],
      "metadata": {
        "id": "QA9Fe_IgrRUm"
      }
    },
    {
      "cell_type": "code",
      "source": [
        "l = [1,2,3,4]\n",
        "l.append(10)\n",
        "print(l)"
      ],
      "metadata": {
        "colab": {
          "base_uri": "https://localhost:8080/"
        },
        "id": "3QSVZN4trWBx",
        "outputId": "8a7bf528-af26-4105-9139-670283e2830b"
      },
      "execution_count": 10,
      "outputs": [
        {
          "output_type": "stream",
          "name": "stdout",
          "text": [
            "[1, 2, 3, 4, 10]\n"
          ]
        }
      ]
    },
    {
      "cell_type": "markdown",
      "source": [
        "# 8.  Write a code to remove the number 3 from the list [1, 2, 3, 4, 5]."
      ],
      "metadata": {
        "id": "AgGFUMlLrWPd"
      }
    },
    {
      "cell_type": "code",
      "source": [
        "l = [1,2,3,4,5]\n",
        "l.remove(3)\n",
        "print(l)"
      ],
      "metadata": {
        "colab": {
          "base_uri": "https://localhost:8080/"
        },
        "id": "uVhzsC6ercZT",
        "outputId": "70aa6996-10bf-4384-d00f-2b2307a3b66d"
      },
      "execution_count": 11,
      "outputs": [
        {
          "output_type": "stream",
          "name": "stdout",
          "text": [
            "[1, 2, 4, 5]\n"
          ]
        }
      ]
    },
    {
      "cell_type": "markdown",
      "source": [
        "# 9.  Write a code to access the second element in the list ['a', 'b', 'c', 'd']."
      ],
      "metadata": {
        "id": "IdzW8DTurctG"
      }
    },
    {
      "cell_type": "code",
      "source": [
        "l = ['a', 'b', 'c', 'd']\n",
        "print(l[1])"
      ],
      "metadata": {
        "colab": {
          "base_uri": "https://localhost:8080/"
        },
        "id": "p0mqlT5VroEl",
        "outputId": "66f65e7a-b1ef-4a83-d44b-70ce5be58512"
      },
      "execution_count": 12,
      "outputs": [
        {
          "output_type": "stream",
          "name": "stdout",
          "text": [
            "b\n"
          ]
        }
      ]
    },
    {
      "cell_type": "markdown",
      "source": [
        "# 10. Write a code to reverse the list [10, 20, 30, 40, 50]."
      ],
      "metadata": {
        "id": "KYitit3arobl"
      }
    },
    {
      "cell_type": "code",
      "source": [
        "l = [10, 20, 30, 40, 50]\n",
        "l.reverse()\n",
        "print(l)"
      ],
      "metadata": {
        "colab": {
          "base_uri": "https://localhost:8080/"
        },
        "id": "diQZYFrIruFB",
        "outputId": "a0a803a9-3fbe-4576-f5a3-86ee1fb41aad"
      },
      "execution_count": 18,
      "outputs": [
        {
          "output_type": "stream",
          "name": "stdout",
          "text": [
            "[50, 40, 30, 20, 10]\n"
          ]
        }
      ]
    },
    {
      "cell_type": "markdown",
      "source": [
        "# 11. Write a code to create a tuple with the elements 100, 200, 300 and print it."
      ],
      "metadata": {
        "id": "WswfH-DXruhr"
      }
    },
    {
      "cell_type": "code",
      "source": [
        "t= (100, 200, 300)\n",
        "print(t)"
      ],
      "metadata": {
        "colab": {
          "base_uri": "https://localhost:8080/"
        },
        "id": "4dnjmRXGrvFK",
        "outputId": "fe0025a5-a225-40f3-c7a0-e490e08beb08"
      },
      "execution_count": 19,
      "outputs": [
        {
          "output_type": "stream",
          "name": "stdout",
          "text": [
            "(100, 200, 300)\n"
          ]
        }
      ]
    },
    {
      "cell_type": "markdown",
      "source": [
        "# 12. Write a code to access the second-to-last element of the tuple ('red', 'green', 'blue', 'yellow')."
      ],
      "metadata": {
        "id": "k_dGqEaervWX"
      }
    },
    {
      "cell_type": "code",
      "source": [
        "t =  ('red', 'green', 'blue', 'yellow')\n",
        "print(t[-2:])"
      ],
      "metadata": {
        "colab": {
          "base_uri": "https://localhost:8080/"
        },
        "id": "mjX4ZSucsGZ0",
        "outputId": "e4140371-369c-4ba1-ac41-387daad28f2c"
      },
      "execution_count": 26,
      "outputs": [
        {
          "output_type": "stream",
          "name": "stdout",
          "text": [
            "('blue', 'yellow')\n"
          ]
        }
      ]
    },
    {
      "cell_type": "markdown",
      "source": [
        "# 13. Write a code to find the minimum number in the tuple (10, 20, 5, 15)."
      ],
      "metadata": {
        "id": "o3ZYPpyxsGvw"
      }
    },
    {
      "cell_type": "code",
      "source": [
        "t = (10, 20, 5, 15)\n",
        "print(min(t))"
      ],
      "metadata": {
        "colab": {
          "base_uri": "https://localhost:8080/"
        },
        "id": "Ev9EIkZ7sLS6",
        "outputId": "eb7c87a6-472a-4afc-cba4-a97b55fce951"
      },
      "execution_count": 28,
      "outputs": [
        {
          "output_type": "stream",
          "name": "stdout",
          "text": [
            "5\n"
          ]
        }
      ]
    },
    {
      "cell_type": "markdown",
      "source": [
        "# 14. Write a code to find the index of the element \"cat\" in the tuple ('dog', 'cat', 'rabbit')."
      ],
      "metadata": {
        "id": "2RRXOYB4sLlt"
      }
    },
    {
      "cell_type": "code",
      "source": [
        "t = ('dog', 'cat', 'rabbit')\n",
        "print(t.index('cat'))"
      ],
      "metadata": {
        "colab": {
          "base_uri": "https://localhost:8080/"
        },
        "id": "0IVj1VuHsRTW",
        "outputId": "be7c7e88-13d4-4f2f-b1e4-be05e2cf7cd2"
      },
      "execution_count": 29,
      "outputs": [
        {
          "output_type": "stream",
          "name": "stdout",
          "text": [
            "1\n"
          ]
        }
      ]
    },
    {
      "cell_type": "markdown",
      "source": [
        "# 15. Write a code to create a tuple containing three different fruits and check if \"kiwi\" is in it."
      ],
      "metadata": {
        "id": "hnzgXHu8sRuI"
      }
    },
    {
      "cell_type": "code",
      "source": [
        "t = ('apple', 'banana', 'kiwi')\n",
        "print('kiwi' in t)"
      ],
      "metadata": {
        "colab": {
          "base_uri": "https://localhost:8080/"
        },
        "id": "3TxRwMP-sfty",
        "outputId": "341987c8-a34b-4123-e58a-8fb52dd324e0"
      },
      "execution_count": 30,
      "outputs": [
        {
          "output_type": "stream",
          "name": "stdout",
          "text": [
            "True\n"
          ]
        }
      ]
    },
    {
      "cell_type": "markdown",
      "source": [
        "# 16. Write a code to create a set with the elements 'a', 'b', 'c' and print it."
      ],
      "metadata": {
        "id": "h1zEtd9OsgBF"
      }
    },
    {
      "cell_type": "code",
      "source": [
        "s = {'a', 'b', 'c'}\n",
        "print(s)"
      ],
      "metadata": {
        "colab": {
          "base_uri": "https://localhost:8080/"
        },
        "id": "CUgLHMDxsnl0",
        "outputId": "e7c5aac6-5a2a-4e2c-88a5-2fe6834c973a"
      },
      "execution_count": 31,
      "outputs": [
        {
          "output_type": "stream",
          "name": "stdout",
          "text": [
            "{'a', 'b', 'c'}\n"
          ]
        }
      ]
    },
    {
      "cell_type": "markdown",
      "source": [
        "# 17. Write a code to clear all elements from the set {1, 2, 3, 4, 5}."
      ],
      "metadata": {
        "id": "zifN1rygsn8A"
      }
    },
    {
      "cell_type": "code",
      "source": [
        "s = {1, 2, 3, 4, 5}\n",
        "s.clear()\n",
        "print(s)"
      ],
      "metadata": {
        "colab": {
          "base_uri": "https://localhost:8080/"
        },
        "id": "bGTh2AaBstEv",
        "outputId": "94aa20ef-9fee-453a-de38-9a2040d916ac"
      },
      "execution_count": 32,
      "outputs": [
        {
          "output_type": "stream",
          "name": "stdout",
          "text": [
            "set()\n"
          ]
        }
      ]
    },
    {
      "cell_type": "markdown",
      "source": [
        "# 18. Write a code to remove the element 4 from the set {1, 2, 3, 4}."
      ],
      "metadata": {
        "id": "O3su3cx8stqu"
      }
    },
    {
      "cell_type": "code",
      "source": [
        "s = {1,2,3,4}\n",
        "s.remove(4)\n",
        "print(s)"
      ],
      "metadata": {
        "colab": {
          "base_uri": "https://localhost:8080/"
        },
        "id": "cFZA-trVs0el",
        "outputId": "5da29fc3-b2d6-417a-d64c-1c9ec3f910a3"
      },
      "execution_count": 33,
      "outputs": [
        {
          "output_type": "stream",
          "name": "stdout",
          "text": [
            "{1, 2, 3}\n"
          ]
        }
      ]
    },
    {
      "cell_type": "markdown",
      "source": [
        "# 19. Write a code to find the union of two sets {1, 2, 3} and {3, 4, 5}."
      ],
      "metadata": {
        "id": "K_4hAUgcs0-2"
      }
    },
    {
      "cell_type": "code",
      "source": [
        "s= {1,2,3}\n",
        "t={3,4,5}\n",
        "u = s.union(t)\n",
        "print(u)"
      ],
      "metadata": {
        "colab": {
          "base_uri": "https://localhost:8080/"
        },
        "id": "JpWglqgms6pN",
        "outputId": "7157cf12-2a1a-47c9-c791-88b836481426"
      },
      "execution_count": 36,
      "outputs": [
        {
          "output_type": "stream",
          "name": "stdout",
          "text": [
            "{1, 2, 3, 4, 5}\n"
          ]
        }
      ]
    },
    {
      "cell_type": "markdown",
      "source": [
        "# 20. Write a code to find the intersection of two sets {1, 2, 3} and {2, 3, 4}."
      ],
      "metadata": {
        "id": "c5j7BEOUs7DY"
      }
    },
    {
      "cell_type": "code",
      "source": [
        "s= {1,2,3}\n",
        "t={2,3,4}\n",
        "u = s.intersection(t)\n",
        "print(u)"
      ],
      "metadata": {
        "colab": {
          "base_uri": "https://localhost:8080/"
        },
        "id": "TTzanCL0s9bH",
        "outputId": "7efb4e63-7903-4f08-d78d-1c6e620814cc"
      },
      "execution_count": 38,
      "outputs": [
        {
          "output_type": "stream",
          "name": "stdout",
          "text": [
            "{2, 3}\n"
          ]
        }
      ]
    },
    {
      "cell_type": "markdown",
      "source": [
        "# 21. Write a code to create a dictionary with the keys \"name\", \"age\", and \"city\", and print it."
      ],
      "metadata": {
        "id": "LB5coar5s9vL"
      }
    },
    {
      "cell_type": "code",
      "source": [
        "dict = {'name': 'Navdeep Gupta', 'age': 20, 'city': 'Gwalior'}\n",
        "print(dict)"
      ],
      "metadata": {
        "colab": {
          "base_uri": "https://localhost:8080/"
        },
        "id": "a47-mx8CtA-m",
        "outputId": "b9fca67b-30c1-4b4b-e83e-ba2f25d80086"
      },
      "execution_count": 39,
      "outputs": [
        {
          "output_type": "stream",
          "name": "stdout",
          "text": [
            "{'name': 'Navdeep Gupta', 'age': 20, 'city': 'Gwalior'}\n"
          ]
        }
      ]
    },
    {
      "cell_type": "markdown",
      "source": [
        "#  22. Write a code to add a new key-value pair \"country\": \"USA\" to the dictionary {'name': 'John', 'age': 25}."
      ],
      "metadata": {
        "id": "zyNHgUxatBs0"
      }
    },
    {
      "cell_type": "code",
      "source": [
        "d = {'name': 'John', 'age': 25}\n",
        "d['country'] = 'USA'\n",
        "print(d)"
      ],
      "metadata": {
        "colab": {
          "base_uri": "https://localhost:8080/"
        },
        "id": "uViBWy2WtG7n",
        "outputId": "9fba5daa-6ada-4816-dfc8-c34334cba575"
      },
      "execution_count": 40,
      "outputs": [
        {
          "output_type": "stream",
          "name": "stdout",
          "text": [
            "{'name': 'John', 'age': 25, 'country': 'USA'}\n"
          ]
        }
      ]
    },
    {
      "cell_type": "markdown",
      "source": [
        "#  23. Write a code to access the value associated with the key \"name\" in the dictionary {'name': 'Alice', 'age': 30}."
      ],
      "metadata": {
        "id": "UAb6QxcUtHWz"
      }
    },
    {
      "cell_type": "code",
      "source": [
        "d={'name': 'Alice', 'age': 30}\n",
        "print(d['name'])"
      ],
      "metadata": {
        "colab": {
          "base_uri": "https://localhost:8080/"
        },
        "id": "Prp0QkPbtNga",
        "outputId": "3ba774f4-1bd8-4cd0-8116-a12aa4515e74"
      },
      "execution_count": 41,
      "outputs": [
        {
          "output_type": "stream",
          "name": "stdout",
          "text": [
            "Alice\n"
          ]
        }
      ]
    },
    {
      "cell_type": "markdown",
      "source": [
        "# 24. Write a code to remove the key \"age\" from the dictionary {'name': 'Bob', 'age': 22, 'city': 'New York'}."
      ],
      "metadata": {
        "id": "GGtinTi4tN1k"
      }
    },
    {
      "cell_type": "code",
      "source": [
        "d= {'name': 'Bob', 'age': 22, 'city': 'New York'}\n",
        "del d['age']\n",
        "print(d)"
      ],
      "metadata": {
        "colab": {
          "base_uri": "https://localhost:8080/"
        },
        "id": "_Uoy3sR3tc4c",
        "outputId": "37d4ac19-e33a-455a-b3b0-27b442c24754"
      },
      "execution_count": 44,
      "outputs": [
        {
          "output_type": "stream",
          "name": "stdout",
          "text": [
            "{'name': 'Bob', 'city': 'New York'}\n"
          ]
        }
      ]
    },
    {
      "cell_type": "markdown",
      "source": [
        "# 25. Write a code to check if the key \"city\" exists in the dictionary {'name': 'Alice', 'city': 'Paris'}."
      ],
      "metadata": {
        "id": "qDJFT8hOtdTQ"
      }
    },
    {
      "cell_type": "code",
      "source": [
        "d= {'name': 'Alice', 'city': 'Paris'}\n",
        "print('city' in d)"
      ],
      "metadata": {
        "colab": {
          "base_uri": "https://localhost:8080/"
        },
        "id": "VDWh6byEttoN",
        "outputId": "d0f8f635-3306-4de8-cd69-1923415c2d27"
      },
      "execution_count": 45,
      "outputs": [
        {
          "output_type": "stream",
          "name": "stdout",
          "text": [
            "True\n"
          ]
        }
      ]
    },
    {
      "cell_type": "markdown",
      "source": [
        "# 26. Write a code to create a list, a tuple, and a dictionary, and print them all."
      ],
      "metadata": {
        "id": "Qj9UVAJWtt94"
      }
    },
    {
      "cell_type": "code",
      "source": [
        "l = [1,2,3,'hi',3+1j]\n",
        "t = (1,2,3,True,5j)\n",
        "d = {'name': 'Navdeep Gupta', 'age': 20, 'city': 'Gwalior'}\n",
        "print(l)\n",
        "print(t)\n",
        "print(d)"
      ],
      "metadata": {
        "colab": {
          "base_uri": "https://localhost:8080/"
        },
        "id": "SvH25h81tza6",
        "outputId": "451ae2e8-f598-4c90-af8a-2c473e2d57c2"
      },
      "execution_count": 47,
      "outputs": [
        {
          "output_type": "stream",
          "name": "stdout",
          "text": [
            "[1, 2, 3, 'hi', (3+1j)]\n",
            "(1, 2, 3, True, 5j)\n",
            "{'name': 'Navdeep Gupta', 'age': 20, 'city': 'Gwalior'}\n"
          ]
        }
      ]
    },
    {
      "cell_type": "markdown",
      "source": [
        "#  27. Write a code to create a list of 5 random numbers between 1 and 100, sort it in ascending order, and print the result.(replaced)"
      ],
      "metadata": {
        "id": "3rGjWNpqtzvu"
      }
    },
    {
      "cell_type": "code",
      "source": [
        "import random\n",
        "l = []\n",
        "for i in range(5):\n",
        "    l.append(random.randint(1,100))\n",
        "l.sort()\n",
        "print(l)"
      ],
      "metadata": {
        "colab": {
          "base_uri": "https://localhost:8080/"
        },
        "id": "m8xiQrjtuJO0",
        "outputId": "839d4b5c-3fe0-440a-f315-d03048f9752e"
      },
      "execution_count": 60,
      "outputs": [
        {
          "output_type": "stream",
          "name": "stdout",
          "text": [
            "[6, 7, 24, 29, 90]\n"
          ]
        }
      ]
    },
    {
      "cell_type": "markdown",
      "source": [
        "# 28. Write a code to create a list with strings and print the element at the third index."
      ],
      "metadata": {
        "id": "MHtkqnxSuJ27"
      }
    },
    {
      "cell_type": "code",
      "source": [
        "l= ['apple', 'banana', 'kiwi', 'orange']\n",
        "print(l[2])"
      ],
      "metadata": {
        "colab": {
          "base_uri": "https://localhost:8080/"
        },
        "id": "o1iVOBpluNJk",
        "outputId": "44ee8e2d-2260-4a11-9522-8e4ffc7c2370"
      },
      "execution_count": 49,
      "outputs": [
        {
          "output_type": "stream",
          "name": "stdout",
          "text": [
            "kiwi\n"
          ]
        }
      ]
    },
    {
      "cell_type": "markdown",
      "source": [
        "# 29. Write a code to combine two dictionaries into one and print the result."
      ],
      "metadata": {
        "id": "5m5XsKRguNbF"
      }
    },
    {
      "cell_type": "code",
      "source": [
        "d1= {'name': 'Navdeep Gupta', 'age': 20}\n",
        "d2= {'contact': 8822000000, 'city': 'gwalior' }\n",
        "d1.update(d2)\n",
        "print(d1)"
      ],
      "metadata": {
        "colab": {
          "base_uri": "https://localhost:8080/"
        },
        "id": "5BDtzW7euQQO",
        "outputId": "dc4e61a7-a001-4e8f-b288-ab0eac5febf1"
      },
      "execution_count": 57,
      "outputs": [
        {
          "output_type": "stream",
          "name": "stdout",
          "text": [
            "{'name': 'Navdeep Gupta', 'age': 20, 'contact': 8822000000, 'city': 'gwalior'}\n"
          ]
        }
      ]
    },
    {
      "cell_type": "markdown",
      "source": [
        "#  30. Write a code to convert a list of strings into a set."
      ],
      "metadata": {
        "id": "L4AhhLINuQji"
      }
    },
    {
      "cell_type": "code",
      "source": [
        "l= ['a','hi', 'ab', 'a', 'pwskills']\n",
        "s=set(l)\n",
        "print(s)"
      ],
      "metadata": {
        "colab": {
          "base_uri": "https://localhost:8080/"
        },
        "id": "5QxfxraXuU_E",
        "outputId": "408d1cdc-c5e3-4e1c-f600-c5a347ec3d04"
      },
      "execution_count": 58,
      "outputs": [
        {
          "output_type": "stream",
          "name": "stdout",
          "text": [
            "{'hi', 'a', 'ab', 'pwskills'}\n"
          ]
        }
      ]
    }
  ]
}